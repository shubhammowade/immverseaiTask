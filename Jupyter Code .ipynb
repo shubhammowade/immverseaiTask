{
 "cells": [
  {
   "cell_type": "markdown",
   "id": "ebc0640e",
   "metadata": {},
   "source": [
    "## 1. Load the Dataset:"
   ]
  },
  {
   "cell_type": "code",
   "execution_count": 95,
   "id": "ce72b657",
   "metadata": {},
   "outputs": [],
   "source": [
    "import pandas as pd\n",
    "\n",
    "# Replace 'your_dataset.csv' with the actual file path or URL of your dataset\n",
    "df = pd.read_csv('amazon_ebook_Data.csv')\n"
   ]
  },
  {
   "cell_type": "code",
   "execution_count": 96,
   "id": "e3e216d9",
   "metadata": {},
   "outputs": [
    {
     "data": {
      "text/html": [
       "<div>\n",
       "<style scoped>\n",
       "    .dataframe tbody tr th:only-of-type {\n",
       "        vertical-align: middle;\n",
       "    }\n",
       "\n",
       "    .dataframe tbody tr th {\n",
       "        vertical-align: top;\n",
       "    }\n",
       "\n",
       "    .dataframe thead th {\n",
       "        text-align: right;\n",
       "    }\n",
       "</style>\n",
       "<table border=\"1\" class=\"dataframe\">\n",
       "  <thead>\n",
       "    <tr style=\"text-align: right;\">\n",
       "      <th></th>\n",
       "      <th>Unnamed: 0</th>\n",
       "      <th>market_place</th>\n",
       "      <th>customer_id</th>\n",
       "      <th>review_id</th>\n",
       "      <th>product_id</th>\n",
       "      <th>product_parent</th>\n",
       "      <th>product_title</th>\n",
       "      <th>product_category</th>\n",
       "      <th>star_rating</th>\n",
       "      <th>helpful_votes</th>\n",
       "      <th>total_votes</th>\n",
       "      <th>vine</th>\n",
       "      <th>verified_purchase</th>\n",
       "      <th>review_headline</th>\n",
       "      <th>review_body</th>\n",
       "      <th>review_date</th>\n",
       "      <th>Sentiment_ebook</th>\n",
       "    </tr>\n",
       "  </thead>\n",
       "  <tbody>\n",
       "    <tr>\n",
       "      <th>0</th>\n",
       "      <td>0</td>\n",
       "      <td>\"US\"</td>\n",
       "      <td>\"33605939\"</td>\n",
       "      <td>\"RGYFDX8QXKEIR\"</td>\n",
       "      <td>\"B007KO2MLO\"</td>\n",
       "      <td>\"328837464\"</td>\n",
       "      <td>\"Big Maria\"</td>\n",
       "      <td>\"Digital_Ebook_Purchase\"</td>\n",
       "      <td>1</td>\n",
       "      <td>0</td>\n",
       "      <td>0</td>\n",
       "      <td>0 \\t(N)</td>\n",
       "      <td>0 \\t(N)</td>\n",
       "      <td>\"Quirky\"</td>\n",
       "      <td>\"Elmore Leonard meets the cast of Sierra Madre...</td>\n",
       "      <td>2013-09-09</td>\n",
       "      <td>positive</td>\n",
       "    </tr>\n",
       "    <tr>\n",
       "      <th>1</th>\n",
       "      <td>1</td>\n",
       "      <td>\"US\"</td>\n",
       "      <td>\"34058393\"</td>\n",
       "      <td>\"R13CBGTMNV9R8Z\"</td>\n",
       "      <td>\"B005FLODDE\"</td>\n",
       "      <td>\"764276359\"</td>\n",
       "      <td>\"The Woman Who Wasn't There: The True Story of...</td>\n",
       "      <td>\"Digital_Ebook_Purchase\"</td>\n",
       "      <td>1</td>\n",
       "      <td>1</td>\n",
       "      <td>2</td>\n",
       "      <td>0 \\t(N)</td>\n",
       "      <td>1 \\t(Y)</td>\n",
       "      <td>\"The Woman Who Wasn't There\"</td>\n",
       "      <td>\"This book was very interesting. It is a true ...</td>\n",
       "      <td>2013-09-09</td>\n",
       "      <td>positive</td>\n",
       "    </tr>\n",
       "    <tr>\n",
       "      <th>2</th>\n",
       "      <td>2</td>\n",
       "      <td>\"US\"</td>\n",
       "      <td>\"39601147\"</td>\n",
       "      <td>\"R7DRFHC0F71O0\"</td>\n",
       "      <td>\"B00EA3L35O\"</td>\n",
       "      <td>\"535606445\"</td>\n",
       "      <td>\"Mary had A Sleepy Sheep\"</td>\n",
       "      <td>\"Digital_Ebook_Purchase\"</td>\n",
       "      <td>1</td>\n",
       "      <td>0</td>\n",
       "      <td>0</td>\n",
       "      <td>0 \\t(N)</td>\n",
       "      <td>0 \\t(N)</td>\n",
       "      <td>\"This Sleepy Sheep rocks!\"</td>\n",
       "      <td>\"I had the opportunity to review Mary had a Sl...</td>\n",
       "      <td>2013-09-09</td>\n",
       "      <td>positive</td>\n",
       "    </tr>\n",
       "    <tr>\n",
       "      <th>3</th>\n",
       "      <td>3</td>\n",
       "      <td>\"US\"</td>\n",
       "      <td>\"17351407\"</td>\n",
       "      <td>\"R27LUKEXU3KBXQ\"</td>\n",
       "      <td>\"B00BL3JV50\"</td>\n",
       "      <td>\"240053004\"</td>\n",
       "      <td>\"Starstruck\"</td>\n",
       "      <td>\"Digital_Ebook_Purchase\"</td>\n",
       "      <td>1</td>\n",
       "      <td>1</td>\n",
       "      <td>1</td>\n",
       "      <td>0 \\t(N)</td>\n",
       "      <td>1 \\t(Y)</td>\n",
       "      <td>\"Steamy and suspenseful!!!!!\"</td>\n",
       "      <td>\"What a great read! I really couldn't put this...</td>\n",
       "      <td>2013-09-09</td>\n",
       "      <td>positive</td>\n",
       "    </tr>\n",
       "    <tr>\n",
       "      <th>4</th>\n",
       "      <td>4</td>\n",
       "      <td>\"US\"</td>\n",
       "      <td>\"10463387\"</td>\n",
       "      <td>\"R1VXTPUYMNU687\"</td>\n",
       "      <td>\"B00CXU7U80\"</td>\n",
       "      <td>\"931529805\"</td>\n",
       "      <td>\"The Complete Conan Saga\"</td>\n",
       "      <td>\"Digital_Ebook_Purchase\"</td>\n",
       "      <td>1</td>\n",
       "      <td>1</td>\n",
       "      <td>2</td>\n",
       "      <td>0 \\t(N)</td>\n",
       "      <td>0 \\t(N)</td>\n",
       "      <td>\"Barbarians\"</td>\n",
       "      <td>\"Barbarians need love too ! Short stories work...</td>\n",
       "      <td>2013-09-09</td>\n",
       "      <td>positive</td>\n",
       "    </tr>\n",
       "  </tbody>\n",
       "</table>\n",
       "</div>"
      ],
      "text/plain": [
       "   Unnamed: 0 market_place customer_id         review_id    product_id  \\\n",
       "0           0         \"US\"  \"33605939\"   \"RGYFDX8QXKEIR\"  \"B007KO2MLO\"   \n",
       "1           1         \"US\"  \"34058393\"  \"R13CBGTMNV9R8Z\"  \"B005FLODDE\"   \n",
       "2           2         \"US\"  \"39601147\"   \"R7DRFHC0F71O0\"  \"B00EA3L35O\"   \n",
       "3           3         \"US\"  \"17351407\"  \"R27LUKEXU3KBXQ\"  \"B00BL3JV50\"   \n",
       "4           4         \"US\"  \"10463387\"  \"R1VXTPUYMNU687\"  \"B00CXU7U80\"   \n",
       "\n",
       "  product_parent                                      product_title  \\\n",
       "0    \"328837464\"                                        \"Big Maria\"   \n",
       "1    \"764276359\"  \"The Woman Who Wasn't There: The True Story of...   \n",
       "2    \"535606445\"                          \"Mary had A Sleepy Sheep\"   \n",
       "3    \"240053004\"                                       \"Starstruck\"   \n",
       "4    \"931529805\"                          \"The Complete Conan Saga\"   \n",
       "\n",
       "           product_category  star_rating  helpful_votes  total_votes     vine  \\\n",
       "0  \"Digital_Ebook_Purchase\"            1              0            0  0 \\t(N)   \n",
       "1  \"Digital_Ebook_Purchase\"            1              1            2  0 \\t(N)   \n",
       "2  \"Digital_Ebook_Purchase\"            1              0            0  0 \\t(N)   \n",
       "3  \"Digital_Ebook_Purchase\"            1              1            1  0 \\t(N)   \n",
       "4  \"Digital_Ebook_Purchase\"            1              1            2  0 \\t(N)   \n",
       "\n",
       "  verified_purchase                review_headline  \\\n",
       "0           0 \\t(N)                       \"Quirky\"   \n",
       "1           1 \\t(Y)   \"The Woman Who Wasn't There\"   \n",
       "2           0 \\t(N)     \"This Sleepy Sheep rocks!\"   \n",
       "3           1 \\t(Y)  \"Steamy and suspenseful!!!!!\"   \n",
       "4           0 \\t(N)                   \"Barbarians\"   \n",
       "\n",
       "                                         review_body review_date  \\\n",
       "0  \"Elmore Leonard meets the cast of Sierra Madre...  2013-09-09   \n",
       "1  \"This book was very interesting. It is a true ...  2013-09-09   \n",
       "2  \"I had the opportunity to review Mary had a Sl...  2013-09-09   \n",
       "3  \"What a great read! I really couldn't put this...  2013-09-09   \n",
       "4  \"Barbarians need love too ! Short stories work...  2013-09-09   \n",
       "\n",
       "  Sentiment_ebook  \n",
       "0        positive  \n",
       "1        positive  \n",
       "2        positive  \n",
       "3        positive  \n",
       "4        positive  "
      ]
     },
     "execution_count": 96,
     "metadata": {},
     "output_type": "execute_result"
    }
   ],
   "source": [
    "df.head()"
   ]
  },
  {
   "cell_type": "markdown",
   "id": "7bb104ed",
   "metadata": {},
   "source": [
    "## 2.Explore the Data:"
   ]
  },
  {
   "cell_type": "code",
   "execution_count": 97,
   "id": "18c2be25",
   "metadata": {},
   "outputs": [],
   "source": [
    "df.drop(columns=['review_id','product_id','vine','product_parent','review_headline','review_body'],inplace=True)"
   ]
  },
  {
   "cell_type": "code",
   "execution_count": 98,
   "id": "d8aa0e7c",
   "metadata": {},
   "outputs": [
    {
     "data": {
      "text/html": [
       "<div>\n",
       "<style scoped>\n",
       "    .dataframe tbody tr th:only-of-type {\n",
       "        vertical-align: middle;\n",
       "    }\n",
       "\n",
       "    .dataframe tbody tr th {\n",
       "        vertical-align: top;\n",
       "    }\n",
       "\n",
       "    .dataframe thead th {\n",
       "        text-align: right;\n",
       "    }\n",
       "</style>\n",
       "<table border=\"1\" class=\"dataframe\">\n",
       "  <thead>\n",
       "    <tr style=\"text-align: right;\">\n",
       "      <th></th>\n",
       "      <th>Unnamed: 0</th>\n",
       "      <th>market_place</th>\n",
       "      <th>customer_id</th>\n",
       "      <th>product_title</th>\n",
       "      <th>product_category</th>\n",
       "      <th>star_rating</th>\n",
       "      <th>helpful_votes</th>\n",
       "      <th>total_votes</th>\n",
       "      <th>verified_purchase</th>\n",
       "      <th>review_date</th>\n",
       "      <th>Sentiment_ebook</th>\n",
       "    </tr>\n",
       "  </thead>\n",
       "  <tbody>\n",
       "    <tr>\n",
       "      <th>0</th>\n",
       "      <td>0</td>\n",
       "      <td>\"US\"</td>\n",
       "      <td>\"33605939\"</td>\n",
       "      <td>\"Big Maria\"</td>\n",
       "      <td>\"Digital_Ebook_Purchase\"</td>\n",
       "      <td>1</td>\n",
       "      <td>0</td>\n",
       "      <td>0</td>\n",
       "      <td>0 \\t(N)</td>\n",
       "      <td>2013-09-09</td>\n",
       "      <td>positive</td>\n",
       "    </tr>\n",
       "    <tr>\n",
       "      <th>1</th>\n",
       "      <td>1</td>\n",
       "      <td>\"US\"</td>\n",
       "      <td>\"34058393\"</td>\n",
       "      <td>\"The Woman Who Wasn't There: The True Story of...</td>\n",
       "      <td>\"Digital_Ebook_Purchase\"</td>\n",
       "      <td>1</td>\n",
       "      <td>1</td>\n",
       "      <td>2</td>\n",
       "      <td>1 \\t(Y)</td>\n",
       "      <td>2013-09-09</td>\n",
       "      <td>positive</td>\n",
       "    </tr>\n",
       "    <tr>\n",
       "      <th>2</th>\n",
       "      <td>2</td>\n",
       "      <td>\"US\"</td>\n",
       "      <td>\"39601147\"</td>\n",
       "      <td>\"Mary had A Sleepy Sheep\"</td>\n",
       "      <td>\"Digital_Ebook_Purchase\"</td>\n",
       "      <td>1</td>\n",
       "      <td>0</td>\n",
       "      <td>0</td>\n",
       "      <td>0 \\t(N)</td>\n",
       "      <td>2013-09-09</td>\n",
       "      <td>positive</td>\n",
       "    </tr>\n",
       "    <tr>\n",
       "      <th>3</th>\n",
       "      <td>3</td>\n",
       "      <td>\"US\"</td>\n",
       "      <td>\"17351407\"</td>\n",
       "      <td>\"Starstruck\"</td>\n",
       "      <td>\"Digital_Ebook_Purchase\"</td>\n",
       "      <td>1</td>\n",
       "      <td>1</td>\n",
       "      <td>1</td>\n",
       "      <td>1 \\t(Y)</td>\n",
       "      <td>2013-09-09</td>\n",
       "      <td>positive</td>\n",
       "    </tr>\n",
       "    <tr>\n",
       "      <th>4</th>\n",
       "      <td>4</td>\n",
       "      <td>\"US\"</td>\n",
       "      <td>\"10463387\"</td>\n",
       "      <td>\"The Complete Conan Saga\"</td>\n",
       "      <td>\"Digital_Ebook_Purchase\"</td>\n",
       "      <td>1</td>\n",
       "      <td>1</td>\n",
       "      <td>2</td>\n",
       "      <td>0 \\t(N)</td>\n",
       "      <td>2013-09-09</td>\n",
       "      <td>positive</td>\n",
       "    </tr>\n",
       "  </tbody>\n",
       "</table>\n",
       "</div>"
      ],
      "text/plain": [
       "   Unnamed: 0 market_place customer_id  \\\n",
       "0           0         \"US\"  \"33605939\"   \n",
       "1           1         \"US\"  \"34058393\"   \n",
       "2           2         \"US\"  \"39601147\"   \n",
       "3           3         \"US\"  \"17351407\"   \n",
       "4           4         \"US\"  \"10463387\"   \n",
       "\n",
       "                                       product_title  \\\n",
       "0                                        \"Big Maria\"   \n",
       "1  \"The Woman Who Wasn't There: The True Story of...   \n",
       "2                          \"Mary had A Sleepy Sheep\"   \n",
       "3                                       \"Starstruck\"   \n",
       "4                          \"The Complete Conan Saga\"   \n",
       "\n",
       "           product_category  star_rating  helpful_votes  total_votes  \\\n",
       "0  \"Digital_Ebook_Purchase\"            1              0            0   \n",
       "1  \"Digital_Ebook_Purchase\"            1              1            2   \n",
       "2  \"Digital_Ebook_Purchase\"            1              0            0   \n",
       "3  \"Digital_Ebook_Purchase\"            1              1            1   \n",
       "4  \"Digital_Ebook_Purchase\"            1              1            2   \n",
       "\n",
       "  verified_purchase review_date Sentiment_ebook  \n",
       "0           0 \\t(N)  2013-09-09        positive  \n",
       "1           1 \\t(Y)  2013-09-09        positive  \n",
       "2           0 \\t(N)  2013-09-09        positive  \n",
       "3           1 \\t(Y)  2013-09-09        positive  \n",
       "4           0 \\t(N)  2013-09-09        positive  "
      ]
     },
     "execution_count": 98,
     "metadata": {},
     "output_type": "execute_result"
    }
   ],
   "source": [
    "df.head()"
   ]
  },
  {
   "cell_type": "code",
   "execution_count": 99,
   "id": "72933f3d",
   "metadata": {},
   "outputs": [
    {
     "name": "stdout",
     "output_type": "stream",
     "text": [
      "Basic Statistics:\n",
      "       Unnamed: 0  star_rating  helpful_votes  total_votes\n",
      "count  100.000000   100.000000     100.000000   100.000000\n",
      "mean    49.500000     0.820000       1.580000     2.220000\n",
      "std     29.011492     0.386123       5.005411     6.586764\n",
      "min      0.000000     0.000000       0.000000     0.000000\n",
      "25%     24.750000     1.000000       0.000000     0.000000\n",
      "50%     49.500000     1.000000       0.000000     0.000000\n",
      "75%     74.250000     1.000000       1.000000     2.000000\n",
      "max     99.000000     1.000000      36.000000    47.000000\n",
      "\n",
      "Missing Values:\n",
      "Unnamed: 0           0\n",
      "market_place         0\n",
      "customer_id          0\n",
      "product_title        0\n",
      "product_category     0\n",
      "star_rating          0\n",
      "helpful_votes        0\n",
      "total_votes          0\n",
      "verified_purchase    0\n",
      "review_date          0\n",
      "Sentiment_ebook      0\n",
      "dtype: int64\n"
     ]
    },
    {
     "name": "stderr",
     "output_type": "stream",
     "text": [
      "C:\\Users\\ASUS\\AppData\\Local\\Temp/ipykernel_4300/3547764702.py:17: FutureWarning: Automatic reindexing on DataFrame vs Series comparisons is deprecated and will raise ValueError in a future version.  Do `left, right = left.align(right, axis=1, copy=False)` before e.g. `left == right`\n",
      "  outliers = ((df < Q1 - 1.5 * IQR) | (df > Q3 + 1.5 * IQR)).sum()\n"
     ]
    }
   ],
   "source": [
    "# Display basic statistics (mean, median, standard deviation)\n",
    "statistics_summary = df.describe()\n",
    "\n",
    "# Check for missing values\n",
    "missing_values = df.isnull().sum()\n",
    "\n",
    "# Identify outliers using box plots for numerical columns\n",
    "# Example for a single column 'numeric_column':\n",
    "# df.boxplot(column='numeric_column')\n",
    "# plt.show()\n",
    "\n",
    "# Or identify outliers using IQR (Interquartile Range)\n",
    "# Example for a single column 'numeric_column':\n",
    "Q1 = df.quantile(0.25)\n",
    "Q3 = df.quantile(0.75)\n",
    "IQR = Q3 - Q1\n",
    "outliers = ((df < Q1 - 1.5 * IQR) | (df > Q3 + 1.5 * IQR)).sum()\n",
    "\n",
    "# Print the results\n",
    "print(\"Basic Statistics:\")\n",
    "print(statistics_summary)\n",
    "\n",
    "print(\"\\nMissing Values:\")\n",
    "print(missing_values)\n",
    "\n"
   ]
  },
  {
   "cell_type": "markdown",
   "id": "31541a3d",
   "metadata": {},
   "source": [
    "## 3. Data Cleaning "
   ]
  },
  {
   "cell_type": "code",
   "execution_count": 100,
   "id": "693b11c5",
   "metadata": {},
   "outputs": [],
   "source": [
    "df.drop(columns=['market_place'],inplace=True)"
   ]
  },
  {
   "cell_type": "code",
   "execution_count": 101,
   "id": "72e1a2a8",
   "metadata": {},
   "outputs": [
    {
     "data": {
      "text/html": [
       "<div>\n",
       "<style scoped>\n",
       "    .dataframe tbody tr th:only-of-type {\n",
       "        vertical-align: middle;\n",
       "    }\n",
       "\n",
       "    .dataframe tbody tr th {\n",
       "        vertical-align: top;\n",
       "    }\n",
       "\n",
       "    .dataframe thead th {\n",
       "        text-align: right;\n",
       "    }\n",
       "</style>\n",
       "<table border=\"1\" class=\"dataframe\">\n",
       "  <thead>\n",
       "    <tr style=\"text-align: right;\">\n",
       "      <th></th>\n",
       "      <th>Unnamed: 0</th>\n",
       "      <th>customer_id</th>\n",
       "      <th>product_title</th>\n",
       "      <th>product_category</th>\n",
       "      <th>star_rating</th>\n",
       "      <th>helpful_votes</th>\n",
       "      <th>total_votes</th>\n",
       "      <th>verified_purchase</th>\n",
       "      <th>review_date</th>\n",
       "      <th>Sentiment_ebook</th>\n",
       "    </tr>\n",
       "  </thead>\n",
       "  <tbody>\n",
       "    <tr>\n",
       "      <th>0</th>\n",
       "      <td>0</td>\n",
       "      <td>\"33605939\"</td>\n",
       "      <td>\"Big Maria\"</td>\n",
       "      <td>\"Digital_Ebook_Purchase\"</td>\n",
       "      <td>1</td>\n",
       "      <td>0</td>\n",
       "      <td>0</td>\n",
       "      <td>0 \\t(N)</td>\n",
       "      <td>2013-09-09</td>\n",
       "      <td>positive</td>\n",
       "    </tr>\n",
       "    <tr>\n",
       "      <th>1</th>\n",
       "      <td>1</td>\n",
       "      <td>\"34058393\"</td>\n",
       "      <td>\"The Woman Who Wasn't There: The True Story of...</td>\n",
       "      <td>\"Digital_Ebook_Purchase\"</td>\n",
       "      <td>1</td>\n",
       "      <td>1</td>\n",
       "      <td>2</td>\n",
       "      <td>1 \\t(Y)</td>\n",
       "      <td>2013-09-09</td>\n",
       "      <td>positive</td>\n",
       "    </tr>\n",
       "    <tr>\n",
       "      <th>2</th>\n",
       "      <td>2</td>\n",
       "      <td>\"39601147\"</td>\n",
       "      <td>\"Mary had A Sleepy Sheep\"</td>\n",
       "      <td>\"Digital_Ebook_Purchase\"</td>\n",
       "      <td>1</td>\n",
       "      <td>0</td>\n",
       "      <td>0</td>\n",
       "      <td>0 \\t(N)</td>\n",
       "      <td>2013-09-09</td>\n",
       "      <td>positive</td>\n",
       "    </tr>\n",
       "    <tr>\n",
       "      <th>3</th>\n",
       "      <td>3</td>\n",
       "      <td>\"17351407\"</td>\n",
       "      <td>\"Starstruck\"</td>\n",
       "      <td>\"Digital_Ebook_Purchase\"</td>\n",
       "      <td>1</td>\n",
       "      <td>1</td>\n",
       "      <td>1</td>\n",
       "      <td>1 \\t(Y)</td>\n",
       "      <td>2013-09-09</td>\n",
       "      <td>positive</td>\n",
       "    </tr>\n",
       "    <tr>\n",
       "      <th>4</th>\n",
       "      <td>4</td>\n",
       "      <td>\"10463387\"</td>\n",
       "      <td>\"The Complete Conan Saga\"</td>\n",
       "      <td>\"Digital_Ebook_Purchase\"</td>\n",
       "      <td>1</td>\n",
       "      <td>1</td>\n",
       "      <td>2</td>\n",
       "      <td>0 \\t(N)</td>\n",
       "      <td>2013-09-09</td>\n",
       "      <td>positive</td>\n",
       "    </tr>\n",
       "  </tbody>\n",
       "</table>\n",
       "</div>"
      ],
      "text/plain": [
       "   Unnamed: 0 customer_id                                      product_title  \\\n",
       "0           0  \"33605939\"                                        \"Big Maria\"   \n",
       "1           1  \"34058393\"  \"The Woman Who Wasn't There: The True Story of...   \n",
       "2           2  \"39601147\"                          \"Mary had A Sleepy Sheep\"   \n",
       "3           3  \"17351407\"                                       \"Starstruck\"   \n",
       "4           4  \"10463387\"                          \"The Complete Conan Saga\"   \n",
       "\n",
       "           product_category  star_rating  helpful_votes  total_votes  \\\n",
       "0  \"Digital_Ebook_Purchase\"            1              0            0   \n",
       "1  \"Digital_Ebook_Purchase\"            1              1            2   \n",
       "2  \"Digital_Ebook_Purchase\"            1              0            0   \n",
       "3  \"Digital_Ebook_Purchase\"            1              1            1   \n",
       "4  \"Digital_Ebook_Purchase\"            1              1            2   \n",
       "\n",
       "  verified_purchase review_date Sentiment_ebook  \n",
       "0           0 \\t(N)  2013-09-09        positive  \n",
       "1           1 \\t(Y)  2013-09-09        positive  \n",
       "2           0 \\t(N)  2013-09-09        positive  \n",
       "3           1 \\t(Y)  2013-09-09        positive  \n",
       "4           0 \\t(N)  2013-09-09        positive  "
      ]
     },
     "execution_count": 101,
     "metadata": {},
     "output_type": "execute_result"
    }
   ],
   "source": [
    "df.head()"
   ]
  },
  {
   "cell_type": "code",
   "execution_count": 102,
   "id": "7eca24d0",
   "metadata": {},
   "outputs": [
    {
     "data": {
      "text/plain": [
       "99"
      ]
     },
     "execution_count": 102,
     "metadata": {},
     "output_type": "execute_result"
    }
   ],
   "source": [
    "df.product_title.nunique()"
   ]
  },
  {
   "cell_type": "code",
   "execution_count": 103,
   "id": "d72e8847",
   "metadata": {},
   "outputs": [
    {
     "data": {
      "text/plain": [
       "99"
      ]
     },
     "execution_count": 103,
     "metadata": {},
     "output_type": "execute_result"
    }
   ],
   "source": [
    "df.drop_duplicates(inplace=True)\n",
    "df.product_title.nunique()"
   ]
  },
  {
   "cell_type": "code",
   "execution_count": 104,
   "id": "cd09755a",
   "metadata": {},
   "outputs": [
    {
     "data": {
      "text/html": [
       "<div>\n",
       "<style scoped>\n",
       "    .dataframe tbody tr th:only-of-type {\n",
       "        vertical-align: middle;\n",
       "    }\n",
       "\n",
       "    .dataframe tbody tr th {\n",
       "        vertical-align: top;\n",
       "    }\n",
       "\n",
       "    .dataframe thead th {\n",
       "        text-align: right;\n",
       "    }\n",
       "</style>\n",
       "<table border=\"1\" class=\"dataframe\">\n",
       "  <thead>\n",
       "    <tr style=\"text-align: right;\">\n",
       "      <th></th>\n",
       "      <th>Unnamed: 0</th>\n",
       "      <th>customer_id</th>\n",
       "      <th>product_title</th>\n",
       "      <th>product_category</th>\n",
       "      <th>star_rating</th>\n",
       "      <th>helpful_votes</th>\n",
       "      <th>total_votes</th>\n",
       "      <th>verified_purchase</th>\n",
       "      <th>review_date</th>\n",
       "      <th>Sentiment_ebook</th>\n",
       "    </tr>\n",
       "  </thead>\n",
       "  <tbody>\n",
       "    <tr>\n",
       "      <th>0</th>\n",
       "      <td>0</td>\n",
       "      <td>\"33605939\"</td>\n",
       "      <td>Big Maria</td>\n",
       "      <td>\"Digital_Ebook_Purchase\"</td>\n",
       "      <td>1</td>\n",
       "      <td>0</td>\n",
       "      <td>0</td>\n",
       "      <td>0 \\t(N)</td>\n",
       "      <td>2013-09-09</td>\n",
       "      <td>positive</td>\n",
       "    </tr>\n",
       "    <tr>\n",
       "      <th>1</th>\n",
       "      <td>1</td>\n",
       "      <td>\"34058393\"</td>\n",
       "      <td>The Woman Who Wasn't There: The True Story of ...</td>\n",
       "      <td>\"Digital_Ebook_Purchase\"</td>\n",
       "      <td>1</td>\n",
       "      <td>1</td>\n",
       "      <td>2</td>\n",
       "      <td>1 \\t(Y)</td>\n",
       "      <td>2013-09-09</td>\n",
       "      <td>positive</td>\n",
       "    </tr>\n",
       "    <tr>\n",
       "      <th>2</th>\n",
       "      <td>2</td>\n",
       "      <td>\"39601147\"</td>\n",
       "      <td>Mary had A Sleepy Sheep</td>\n",
       "      <td>\"Digital_Ebook_Purchase\"</td>\n",
       "      <td>1</td>\n",
       "      <td>0</td>\n",
       "      <td>0</td>\n",
       "      <td>0 \\t(N)</td>\n",
       "      <td>2013-09-09</td>\n",
       "      <td>positive</td>\n",
       "    </tr>\n",
       "    <tr>\n",
       "      <th>3</th>\n",
       "      <td>3</td>\n",
       "      <td>\"17351407\"</td>\n",
       "      <td>Starstruck</td>\n",
       "      <td>\"Digital_Ebook_Purchase\"</td>\n",
       "      <td>1</td>\n",
       "      <td>1</td>\n",
       "      <td>1</td>\n",
       "      <td>1 \\t(Y)</td>\n",
       "      <td>2013-09-09</td>\n",
       "      <td>positive</td>\n",
       "    </tr>\n",
       "    <tr>\n",
       "      <th>4</th>\n",
       "      <td>4</td>\n",
       "      <td>\"10463387\"</td>\n",
       "      <td>The Complete Conan Saga</td>\n",
       "      <td>\"Digital_Ebook_Purchase\"</td>\n",
       "      <td>1</td>\n",
       "      <td>1</td>\n",
       "      <td>2</td>\n",
       "      <td>0 \\t(N)</td>\n",
       "      <td>2013-09-09</td>\n",
       "      <td>positive</td>\n",
       "    </tr>\n",
       "  </tbody>\n",
       "</table>\n",
       "</div>"
      ],
      "text/plain": [
       "   Unnamed: 0 customer_id                                      product_title  \\\n",
       "0           0  \"33605939\"                                          Big Maria   \n",
       "1           1  \"34058393\"  The Woman Who Wasn't There: The True Story of ...   \n",
       "2           2  \"39601147\"                            Mary had A Sleepy Sheep   \n",
       "3           3  \"17351407\"                                         Starstruck   \n",
       "4           4  \"10463387\"                            The Complete Conan Saga   \n",
       "\n",
       "           product_category  star_rating  helpful_votes  total_votes  \\\n",
       "0  \"Digital_Ebook_Purchase\"            1              0            0   \n",
       "1  \"Digital_Ebook_Purchase\"            1              1            2   \n",
       "2  \"Digital_Ebook_Purchase\"            1              0            0   \n",
       "3  \"Digital_Ebook_Purchase\"            1              1            1   \n",
       "4  \"Digital_Ebook_Purchase\"            1              1            2   \n",
       "\n",
       "  verified_purchase review_date Sentiment_ebook  \n",
       "0           0 \\t(N)  2013-09-09        positive  \n",
       "1           1 \\t(Y)  2013-09-09        positive  \n",
       "2           0 \\t(N)  2013-09-09        positive  \n",
       "3           1 \\t(Y)  2013-09-09        positive  \n",
       "4           0 \\t(N)  2013-09-09        positive  "
      ]
     },
     "execution_count": 104,
     "metadata": {},
     "output_type": "execute_result"
    }
   ],
   "source": [
    "# removiing quotes along with the name\n",
    "def handle_quotation_marks(value):\n",
    "    value=str(value)\n",
    "    value=value.split('\"')\n",
    "    value=value[1]\n",
    "    return value\n",
    "df['product_title']=df['product_title'].apply(handle_quotation_marks)\n",
    "df.head()"
   ]
  },
  {
   "cell_type": "code",
   "execution_count": 105,
   "id": "b16048be",
   "metadata": {},
   "outputs": [
    {
     "data": {
      "text/html": [
       "<div>\n",
       "<style scoped>\n",
       "    .dataframe tbody tr th:only-of-type {\n",
       "        vertical-align: middle;\n",
       "    }\n",
       "\n",
       "    .dataframe tbody tr th {\n",
       "        vertical-align: top;\n",
       "    }\n",
       "\n",
       "    .dataframe thead th {\n",
       "        text-align: right;\n",
       "    }\n",
       "</style>\n",
       "<table border=\"1\" class=\"dataframe\">\n",
       "  <thead>\n",
       "    <tr style=\"text-align: right;\">\n",
       "      <th></th>\n",
       "      <th>Unnamed: 0</th>\n",
       "      <th>customer_id</th>\n",
       "      <th>product_title</th>\n",
       "      <th>product_category</th>\n",
       "      <th>star_rating</th>\n",
       "      <th>helpful_votes</th>\n",
       "      <th>total_votes</th>\n",
       "      <th>verified_purchase</th>\n",
       "      <th>review_date</th>\n",
       "      <th>Sentiment_ebook</th>\n",
       "    </tr>\n",
       "  </thead>\n",
       "  <tbody>\n",
       "    <tr>\n",
       "      <th>0</th>\n",
       "      <td>0</td>\n",
       "      <td>\"33605939\"</td>\n",
       "      <td>Big Maria</td>\n",
       "      <td>Digital_Ebook_Purchase</td>\n",
       "      <td>1</td>\n",
       "      <td>0</td>\n",
       "      <td>0</td>\n",
       "      <td>0 \\t(N)</td>\n",
       "      <td>2013-09-09</td>\n",
       "      <td>positive</td>\n",
       "    </tr>\n",
       "    <tr>\n",
       "      <th>1</th>\n",
       "      <td>1</td>\n",
       "      <td>\"34058393\"</td>\n",
       "      <td>The Woman Who Wasn't There: The True Story of ...</td>\n",
       "      <td>Digital_Ebook_Purchase</td>\n",
       "      <td>1</td>\n",
       "      <td>1</td>\n",
       "      <td>2</td>\n",
       "      <td>1 \\t(Y)</td>\n",
       "      <td>2013-09-09</td>\n",
       "      <td>positive</td>\n",
       "    </tr>\n",
       "    <tr>\n",
       "      <th>2</th>\n",
       "      <td>2</td>\n",
       "      <td>\"39601147\"</td>\n",
       "      <td>Mary had A Sleepy Sheep</td>\n",
       "      <td>Digital_Ebook_Purchase</td>\n",
       "      <td>1</td>\n",
       "      <td>0</td>\n",
       "      <td>0</td>\n",
       "      <td>0 \\t(N)</td>\n",
       "      <td>2013-09-09</td>\n",
       "      <td>positive</td>\n",
       "    </tr>\n",
       "    <tr>\n",
       "      <th>3</th>\n",
       "      <td>3</td>\n",
       "      <td>\"17351407\"</td>\n",
       "      <td>Starstruck</td>\n",
       "      <td>Digital_Ebook_Purchase</td>\n",
       "      <td>1</td>\n",
       "      <td>1</td>\n",
       "      <td>1</td>\n",
       "      <td>1 \\t(Y)</td>\n",
       "      <td>2013-09-09</td>\n",
       "      <td>positive</td>\n",
       "    </tr>\n",
       "    <tr>\n",
       "      <th>4</th>\n",
       "      <td>4</td>\n",
       "      <td>\"10463387\"</td>\n",
       "      <td>The Complete Conan Saga</td>\n",
       "      <td>Digital_Ebook_Purchase</td>\n",
       "      <td>1</td>\n",
       "      <td>1</td>\n",
       "      <td>2</td>\n",
       "      <td>0 \\t(N)</td>\n",
       "      <td>2013-09-09</td>\n",
       "      <td>positive</td>\n",
       "    </tr>\n",
       "  </tbody>\n",
       "</table>\n",
       "</div>"
      ],
      "text/plain": [
       "   Unnamed: 0 customer_id                                      product_title  \\\n",
       "0           0  \"33605939\"                                          Big Maria   \n",
       "1           1  \"34058393\"  The Woman Who Wasn't There: The True Story of ...   \n",
       "2           2  \"39601147\"                            Mary had A Sleepy Sheep   \n",
       "3           3  \"17351407\"                                         Starstruck   \n",
       "4           4  \"10463387\"                            The Complete Conan Saga   \n",
       "\n",
       "         product_category  star_rating  helpful_votes  total_votes  \\\n",
       "0  Digital_Ebook_Purchase            1              0            0   \n",
       "1  Digital_Ebook_Purchase            1              1            2   \n",
       "2  Digital_Ebook_Purchase            1              0            0   \n",
       "3  Digital_Ebook_Purchase            1              1            1   \n",
       "4  Digital_Ebook_Purchase            1              1            2   \n",
       "\n",
       "  verified_purchase review_date Sentiment_ebook  \n",
       "0           0 \\t(N)  2013-09-09        positive  \n",
       "1           1 \\t(Y)  2013-09-09        positive  \n",
       "2           0 \\t(N)  2013-09-09        positive  \n",
       "3           1 \\t(Y)  2013-09-09        positive  \n",
       "4           0 \\t(N)  2013-09-09        positive  "
      ]
     },
     "execution_count": 105,
     "metadata": {},
     "output_type": "execute_result"
    }
   ],
   "source": [
    "df[\"product_category\"]=df[\"product_category\"].apply(handle_quotation_marks)\n",
    "df.head()"
   ]
  },
  {
   "cell_type": "markdown",
   "id": "cad69437",
   "metadata": {},
   "source": [
    "## 4. Data Transformation:"
   ]
  },
  {
   "cell_type": "code",
   "execution_count": 106,
   "id": "f52aaadc",
   "metadata": {},
   "outputs": [
    {
     "data": {
      "text/plain": [
       "0     57\n",
       "1     16\n",
       "2     11\n",
       "3      4\n",
       "8      2\n",
       "5      2\n",
       "4      2\n",
       "47     1\n",
       "26     1\n",
       "6      1\n",
       "12     1\n",
       "11     1\n",
       "36     1\n",
       "Name: total_votes, dtype: int64"
      ]
     },
     "execution_count": 106,
     "metadata": {},
     "output_type": "execute_result"
    }
   ],
   "source": [
    "df.total_votes.value_counts()\n"
   ]
  },
  {
   "cell_type": "code",
   "execution_count": 107,
   "id": "e50998d4",
   "metadata": {},
   "outputs": [
    {
     "data": {
      "text/html": [
       "<div>\n",
       "<style scoped>\n",
       "    .dataframe tbody tr th:only-of-type {\n",
       "        vertical-align: middle;\n",
       "    }\n",
       "\n",
       "    .dataframe tbody tr th {\n",
       "        vertical-align: top;\n",
       "    }\n",
       "\n",
       "    .dataframe thead th {\n",
       "        text-align: right;\n",
       "    }\n",
       "</style>\n",
       "<table border=\"1\" class=\"dataframe\">\n",
       "  <thead>\n",
       "    <tr style=\"text-align: right;\">\n",
       "      <th></th>\n",
       "      <th>Unnamed: 0</th>\n",
       "      <th>customer_id</th>\n",
       "      <th>product_title</th>\n",
       "      <th>product_category</th>\n",
       "      <th>star_rating</th>\n",
       "      <th>helpful_votes</th>\n",
       "      <th>total_votes</th>\n",
       "      <th>verified_purchase</th>\n",
       "      <th>review_date</th>\n",
       "      <th>Sentiment_ebook</th>\n",
       "    </tr>\n",
       "  </thead>\n",
       "  <tbody>\n",
       "  </tbody>\n",
       "</table>\n",
       "</div>"
      ],
      "text/plain": [
       "Empty DataFrame\n",
       "Columns: [Unnamed: 0, customer_id, product_title, product_category, star_rating, helpful_votes, total_votes, verified_purchase, review_date, Sentiment_ebook]\n",
       "Index: []"
      ]
     },
     "execution_count": 107,
     "metadata": {},
     "output_type": "execute_result"
    }
   ],
   "source": [
    "#checking if there are any wrong entries\n",
    "# as number of helpful votes can never be greater than total votes\n",
    "df[df['total_votes']<df['helpful_votes']]"
   ]
  },
  {
   "cell_type": "code",
   "execution_count": 108,
   "id": "baaa0564",
   "metadata": {},
   "outputs": [
    {
     "data": {
      "text/plain": [
       "1 \\t(Y)    79\n",
       "0 \\t(N)    21\n",
       "Name: verified_purchase, dtype: int64"
      ]
     },
     "execution_count": 108,
     "metadata": {},
     "output_type": "execute_result"
    }
   ],
   "source": [
    "df.verified_purchase.value_counts()"
   ]
  },
  {
   "cell_type": "code",
   "execution_count": 109,
   "id": "7bbdfefd",
   "metadata": {},
   "outputs": [],
   "source": [
    "#here we can see there are only two outputs but they have special characters and are not clear.\n",
    "#therefore we need to handle this column and clean it.\n",
    "\n",
    "def handle_verified_purchase(value):\n",
    "    value=value[4]\n",
    "    return value"
   ]
  },
  {
   "cell_type": "code",
   "execution_count": 110,
   "id": "32e70c42",
   "metadata": {},
   "outputs": [
    {
     "data": {
      "text/html": [
       "<div>\n",
       "<style scoped>\n",
       "    .dataframe tbody tr th:only-of-type {\n",
       "        vertical-align: middle;\n",
       "    }\n",
       "\n",
       "    .dataframe tbody tr th {\n",
       "        vertical-align: top;\n",
       "    }\n",
       "\n",
       "    .dataframe thead th {\n",
       "        text-align: right;\n",
       "    }\n",
       "</style>\n",
       "<table border=\"1\" class=\"dataframe\">\n",
       "  <thead>\n",
       "    <tr style=\"text-align: right;\">\n",
       "      <th></th>\n",
       "      <th>Unnamed: 0</th>\n",
       "      <th>customer_id</th>\n",
       "      <th>product_title</th>\n",
       "      <th>product_category</th>\n",
       "      <th>star_rating</th>\n",
       "      <th>helpful_votes</th>\n",
       "      <th>total_votes</th>\n",
       "      <th>verified_purchase</th>\n",
       "      <th>review_date</th>\n",
       "      <th>Sentiment_ebook</th>\n",
       "    </tr>\n",
       "  </thead>\n",
       "  <tbody>\n",
       "    <tr>\n",
       "      <th>0</th>\n",
       "      <td>0</td>\n",
       "      <td>\"33605939\"</td>\n",
       "      <td>Big Maria</td>\n",
       "      <td>Digital_Ebook_Purchase</td>\n",
       "      <td>1</td>\n",
       "      <td>0</td>\n",
       "      <td>0</td>\n",
       "      <td>N</td>\n",
       "      <td>2013-09-09</td>\n",
       "      <td>positive</td>\n",
       "    </tr>\n",
       "    <tr>\n",
       "      <th>1</th>\n",
       "      <td>1</td>\n",
       "      <td>\"34058393\"</td>\n",
       "      <td>The Woman Who Wasn't There: The True Story of ...</td>\n",
       "      <td>Digital_Ebook_Purchase</td>\n",
       "      <td>1</td>\n",
       "      <td>1</td>\n",
       "      <td>2</td>\n",
       "      <td>Y</td>\n",
       "      <td>2013-09-09</td>\n",
       "      <td>positive</td>\n",
       "    </tr>\n",
       "    <tr>\n",
       "      <th>2</th>\n",
       "      <td>2</td>\n",
       "      <td>\"39601147\"</td>\n",
       "      <td>Mary had A Sleepy Sheep</td>\n",
       "      <td>Digital_Ebook_Purchase</td>\n",
       "      <td>1</td>\n",
       "      <td>0</td>\n",
       "      <td>0</td>\n",
       "      <td>N</td>\n",
       "      <td>2013-09-09</td>\n",
       "      <td>positive</td>\n",
       "    </tr>\n",
       "    <tr>\n",
       "      <th>3</th>\n",
       "      <td>3</td>\n",
       "      <td>\"17351407\"</td>\n",
       "      <td>Starstruck</td>\n",
       "      <td>Digital_Ebook_Purchase</td>\n",
       "      <td>1</td>\n",
       "      <td>1</td>\n",
       "      <td>1</td>\n",
       "      <td>Y</td>\n",
       "      <td>2013-09-09</td>\n",
       "      <td>positive</td>\n",
       "    </tr>\n",
       "    <tr>\n",
       "      <th>4</th>\n",
       "      <td>4</td>\n",
       "      <td>\"10463387\"</td>\n",
       "      <td>The Complete Conan Saga</td>\n",
       "      <td>Digital_Ebook_Purchase</td>\n",
       "      <td>1</td>\n",
       "      <td>1</td>\n",
       "      <td>2</td>\n",
       "      <td>N</td>\n",
       "      <td>2013-09-09</td>\n",
       "      <td>positive</td>\n",
       "    </tr>\n",
       "  </tbody>\n",
       "</table>\n",
       "</div>"
      ],
      "text/plain": [
       "   Unnamed: 0 customer_id                                      product_title  \\\n",
       "0           0  \"33605939\"                                          Big Maria   \n",
       "1           1  \"34058393\"  The Woman Who Wasn't There: The True Story of ...   \n",
       "2           2  \"39601147\"                            Mary had A Sleepy Sheep   \n",
       "3           3  \"17351407\"                                         Starstruck   \n",
       "4           4  \"10463387\"                            The Complete Conan Saga   \n",
       "\n",
       "         product_category  star_rating  helpful_votes  total_votes  \\\n",
       "0  Digital_Ebook_Purchase            1              0            0   \n",
       "1  Digital_Ebook_Purchase            1              1            2   \n",
       "2  Digital_Ebook_Purchase            1              0            0   \n",
       "3  Digital_Ebook_Purchase            1              1            1   \n",
       "4  Digital_Ebook_Purchase            1              1            2   \n",
       "\n",
       "  verified_purchase review_date Sentiment_ebook  \n",
       "0                 N  2013-09-09        positive  \n",
       "1                 Y  2013-09-09        positive  \n",
       "2                 N  2013-09-09        positive  \n",
       "3                 Y  2013-09-09        positive  \n",
       "4                 N  2013-09-09        positive  "
      ]
     },
     "execution_count": 110,
     "metadata": {},
     "output_type": "execute_result"
    }
   ],
   "source": [
    "df['verified_purchase']=df['verified_purchase'].apply(handle_verified_purchase)\n",
    "df.head()"
   ]
  },
  {
   "cell_type": "code",
   "execution_count": 111,
   "id": "24726f97",
   "metadata": {},
   "outputs": [
    {
     "data": {
      "text/plain": [
       "Y    79\n",
       "N    21\n",
       "Name: verified_purchase, dtype: int64"
      ]
     },
     "execution_count": 111,
     "metadata": {},
     "output_type": "execute_result"
    }
   ],
   "source": [
    "#here we can see that verified_purchase column has been cleaned.\n",
    "df.verified_purchase.value_counts()"
   ]
  },
  {
   "cell_type": "code",
   "execution_count": 112,
   "id": "401ba26b",
   "metadata": {},
   "outputs": [
    {
     "name": "stdout",
     "output_type": "stream",
     "text": [
      "<class 'pandas.core.frame.DataFrame'>\n",
      "Int64Index: 100 entries, 0 to 99\n",
      "Data columns (total 10 columns):\n",
      " #   Column             Non-Null Count  Dtype \n",
      "---  ------             --------------  ----- \n",
      " 0   Unnamed: 0         100 non-null    int64 \n",
      " 1   customer_id        100 non-null    object\n",
      " 2   product_title      100 non-null    object\n",
      " 3   product_category   100 non-null    object\n",
      " 4   star_rating        100 non-null    int64 \n",
      " 5   helpful_votes      100 non-null    int64 \n",
      " 6   total_votes        100 non-null    int64 \n",
      " 7   verified_purchase  100 non-null    object\n",
      " 8   review_date        100 non-null    object\n",
      " 9   Sentiment_ebook    100 non-null    object\n",
      "dtypes: int64(4), object(6)\n",
      "memory usage: 8.6+ KB\n"
     ]
    }
   ],
   "source": [
    "df.info()"
   ]
  },
  {
   "cell_type": "code",
   "execution_count": 113,
   "id": "ff2aeaaa",
   "metadata": {},
   "outputs": [],
   "source": [
    "#here we can see that the dtype is onject hence we should try to change it to datetime for \n",
    "#easy and efficient handeling\n",
    "from datetime import datetime\n",
    "\n",
    "\n",
    "def handle_date(value):\n",
    "    value= datetime.strptime(value, '%Y-%m-%d')\n",
    "    \n",
    "    return value"
   ]
  },
  {
   "cell_type": "code",
   "execution_count": 114,
   "id": "0ac7e156",
   "metadata": {},
   "outputs": [
    {
     "data": {
      "text/html": [
       "<div>\n",
       "<style scoped>\n",
       "    .dataframe tbody tr th:only-of-type {\n",
       "        vertical-align: middle;\n",
       "    }\n",
       "\n",
       "    .dataframe tbody tr th {\n",
       "        vertical-align: top;\n",
       "    }\n",
       "\n",
       "    .dataframe thead th {\n",
       "        text-align: right;\n",
       "    }\n",
       "</style>\n",
       "<table border=\"1\" class=\"dataframe\">\n",
       "  <thead>\n",
       "    <tr style=\"text-align: right;\">\n",
       "      <th></th>\n",
       "      <th>Unnamed: 0</th>\n",
       "      <th>customer_id</th>\n",
       "      <th>product_title</th>\n",
       "      <th>product_category</th>\n",
       "      <th>star_rating</th>\n",
       "      <th>helpful_votes</th>\n",
       "      <th>total_votes</th>\n",
       "      <th>verified_purchase</th>\n",
       "      <th>review_date</th>\n",
       "      <th>Sentiment_ebook</th>\n",
       "    </tr>\n",
       "  </thead>\n",
       "  <tbody>\n",
       "    <tr>\n",
       "      <th>0</th>\n",
       "      <td>0</td>\n",
       "      <td>\"33605939\"</td>\n",
       "      <td>Big Maria</td>\n",
       "      <td>Digital_Ebook_Purchase</td>\n",
       "      <td>1</td>\n",
       "      <td>0</td>\n",
       "      <td>0</td>\n",
       "      <td>N</td>\n",
       "      <td>2013-09-09</td>\n",
       "      <td>positive</td>\n",
       "    </tr>\n",
       "    <tr>\n",
       "      <th>1</th>\n",
       "      <td>1</td>\n",
       "      <td>\"34058393\"</td>\n",
       "      <td>The Woman Who Wasn't There: The True Story of ...</td>\n",
       "      <td>Digital_Ebook_Purchase</td>\n",
       "      <td>1</td>\n",
       "      <td>1</td>\n",
       "      <td>2</td>\n",
       "      <td>Y</td>\n",
       "      <td>2013-09-09</td>\n",
       "      <td>positive</td>\n",
       "    </tr>\n",
       "    <tr>\n",
       "      <th>2</th>\n",
       "      <td>2</td>\n",
       "      <td>\"39601147\"</td>\n",
       "      <td>Mary had A Sleepy Sheep</td>\n",
       "      <td>Digital_Ebook_Purchase</td>\n",
       "      <td>1</td>\n",
       "      <td>0</td>\n",
       "      <td>0</td>\n",
       "      <td>N</td>\n",
       "      <td>2013-09-09</td>\n",
       "      <td>positive</td>\n",
       "    </tr>\n",
       "    <tr>\n",
       "      <th>3</th>\n",
       "      <td>3</td>\n",
       "      <td>\"17351407\"</td>\n",
       "      <td>Starstruck</td>\n",
       "      <td>Digital_Ebook_Purchase</td>\n",
       "      <td>1</td>\n",
       "      <td>1</td>\n",
       "      <td>1</td>\n",
       "      <td>Y</td>\n",
       "      <td>2013-09-09</td>\n",
       "      <td>positive</td>\n",
       "    </tr>\n",
       "    <tr>\n",
       "      <th>4</th>\n",
       "      <td>4</td>\n",
       "      <td>\"10463387\"</td>\n",
       "      <td>The Complete Conan Saga</td>\n",
       "      <td>Digital_Ebook_Purchase</td>\n",
       "      <td>1</td>\n",
       "      <td>1</td>\n",
       "      <td>2</td>\n",
       "      <td>N</td>\n",
       "      <td>2013-09-09</td>\n",
       "      <td>positive</td>\n",
       "    </tr>\n",
       "  </tbody>\n",
       "</table>\n",
       "</div>"
      ],
      "text/plain": [
       "   Unnamed: 0 customer_id                                      product_title  \\\n",
       "0           0  \"33605939\"                                          Big Maria   \n",
       "1           1  \"34058393\"  The Woman Who Wasn't There: The True Story of ...   \n",
       "2           2  \"39601147\"                            Mary had A Sleepy Sheep   \n",
       "3           3  \"17351407\"                                         Starstruck   \n",
       "4           4  \"10463387\"                            The Complete Conan Saga   \n",
       "\n",
       "         product_category  star_rating  helpful_votes  total_votes  \\\n",
       "0  Digital_Ebook_Purchase            1              0            0   \n",
       "1  Digital_Ebook_Purchase            1              1            2   \n",
       "2  Digital_Ebook_Purchase            1              0            0   \n",
       "3  Digital_Ebook_Purchase            1              1            1   \n",
       "4  Digital_Ebook_Purchase            1              1            2   \n",
       "\n",
       "  verified_purchase review_date Sentiment_ebook  \n",
       "0                 N  2013-09-09        positive  \n",
       "1                 Y  2013-09-09        positive  \n",
       "2                 N  2013-09-09        positive  \n",
       "3                 Y  2013-09-09        positive  \n",
       "4                 N  2013-09-09        positive  "
      ]
     },
     "execution_count": 114,
     "metadata": {},
     "output_type": "execute_result"
    }
   ],
   "source": [
    "df['review_date']=df['review_date'].apply(handle_date)\n",
    "df.head()"
   ]
  },
  {
   "cell_type": "code",
   "execution_count": 115,
   "id": "53d1484e",
   "metadata": {},
   "outputs": [
    {
     "name": "stdout",
     "output_type": "stream",
     "text": [
      "<class 'pandas.core.frame.DataFrame'>\n",
      "Int64Index: 100 entries, 0 to 99\n",
      "Data columns (total 10 columns):\n",
      " #   Column             Non-Null Count  Dtype         \n",
      "---  ------             --------------  -----         \n",
      " 0   Unnamed: 0         100 non-null    int64         \n",
      " 1   customer_id        100 non-null    object        \n",
      " 2   product_title      100 non-null    object        \n",
      " 3   product_category   100 non-null    object        \n",
      " 4   star_rating        100 non-null    int64         \n",
      " 5   helpful_votes      100 non-null    int64         \n",
      " 6   total_votes        100 non-null    int64         \n",
      " 7   verified_purchase  100 non-null    object        \n",
      " 8   review_date        100 non-null    datetime64[ns]\n",
      " 9   Sentiment_ebook    100 non-null    object        \n",
      "dtypes: datetime64[ns](1), int64(4), object(5)\n",
      "memory usage: 8.6+ KB\n"
     ]
    }
   ],
   "source": [
    "df.info()"
   ]
  },
  {
   "cell_type": "markdown",
   "id": "a79b1bb0",
   "metadata": {},
   "source": [
    "## 5. Data Visualization:"
   ]
  },
  {
   "cell_type": "code",
   "execution_count": 116,
   "id": "e8abfb9d",
   "metadata": {},
   "outputs": [],
   "source": [
    "\n",
    "import numpy as np\n",
    "import matplotlib.pyplot as plt\n",
    "import seaborn as sns\n"
   ]
  },
  {
   "cell_type": "code",
   "execution_count": 117,
   "id": "6ced92a5",
   "metadata": {},
   "outputs": [
    {
     "name": "stderr",
     "output_type": "stream",
     "text": [
      "C:\\Users\\ASUS\\anaconda3\\lib\\site-packages\\seaborn\\_decorators.py:36: FutureWarning: Pass the following variable as a keyword arg: x. From version 0.12, the only valid positional argument will be `data`, and passing other arguments without an explicit keyword will result in an error or misinterpretation.\n",
      "  warnings.warn(\n"
     ]
    },
    {
     "data": {
      "text/plain": [
       "<Axes: xlabel='verified_purchase', ylabel='count'>"
      ]
     },
     "execution_count": 117,
     "metadata": {},
     "output_type": "execute_result"
    },
    {
     "data": {
      "image/png": "[encoded data removed]",
      "text/plain": [
       "<Figure size 432x432 with 1 Axes>"
      ]
     },
     "metadata": {
      "needs_background": "light"
     },
     "output_type": "display_data"
    }
   ],
   "source": [
    "plt.figure(figsize=(6,6))\n",
    "sns.countplot(df['verified_purchase'])"
   ]
  },
  {
   "cell_type": "code",
   "execution_count": 118,
   "id": "5db32f59",
   "metadata": {},
   "outputs": [
    {
     "data": {
      "image/png": "[encoded data removed]",
      "text/plain": [
       "<Figure size 432x288 with 1 Axes>"
      ]
     },
     "metadata": {
      "needs_background": "light"
     },
     "output_type": "display_data"
    }
   ],
   "source": [
    "df_1=df.groupby(['verified_purchase'])['star_rating'].value_counts()\n",
    "df[(df['star_rating']==1) & (df['Sentiment_ebook']=='negative')]\n",
    "sns.boxplot(x=df['total_votes'], y=df['helpful_votes'])\n",
    "plt.show()"
   ]
  },
  {
   "cell_type": "code",
   "execution_count": 119,
   "id": "26158fd5",
   "metadata": {},
   "outputs": [
    {
     "data": {
      "image/png": "[encoded data removed]",
      "text/plain": [
       "<Figure size 432x288 with 1 Axes>"
      ]
     },
     "metadata": {
      "needs_background": "light"
     },
     "output_type": "display_data"
    }
   ],
   "source": [
    "plt.scatter(df['review_date'], df['product_category'])\n",
    "plt.show()"
   ]
  },
  {
   "cell_type": "code",
   "execution_count": 120,
   "id": "956c41e4",
   "metadata": {},
   "outputs": [
    {
     "data": {
      "image/png": "[encoded data removed]",
      "text/plain": [
       "<Figure size 432x288 with 1 Axes>"
      ]
     },
     "metadata": {
      "needs_background": "light"
     },
     "output_type": "display_data"
    }
   ],
   "source": [
    "# Here we can see that among the verified purchases 67 have given 1 as star_rating and 9 have given 0 as star rating. Similarly for non-verified purchases 17 have given 1 star and 7 have gives 0 star as star raiting.\n",
    "df_1.plot(kind='bar')\n",
    "plt.show()"
   ]
  },
  {
   "cell_type": "code",
   "execution_count": 121,
   "id": "ea95301b",
   "metadata": {},
   "outputs": [
    {
     "data": {
      "text/plain": [
       "<Axes: xlabel='verified_purchase', ylabel='count'>"
      ]
     },
     "execution_count": 121,
     "metadata": {},
     "output_type": "execute_result"
    },
    {
     "data": {
      "image/png": "[encoded data removed]",
      "text/plain": [
       "<Figure size 432x288 with 1 Axes>"
      ]
     },
     "metadata": {
      "needs_background": "light"
     },
     "output_type": "display_data"
    }
   ],
   "source": [
    "sns.countplot(data=df,x='verified_purchase',hue='star_rating')"
   ]
  },
  {
   "cell_type": "markdown",
   "id": "a1ce7041",
   "metadata": {},
   "source": [
    "## 6. Export the Cleaned Data:"
   ]
  },
  {
   "cell_type": "code",
   "execution_count": 122,
   "id": "d7d9fefd",
   "metadata": {},
   "outputs": [],
   "source": [
    "# Replace 'cleaned_dataset.csv' with the desired file name\n",
    "df.to_csv('cleaned_dataset.csv', index=False)"
   ]
  },
  {
   "cell_type": "markdown",
   "id": "f9ff3a7b",
   "metadata": {},
   "source": [
    "## 7.Data Quality Report:"
   ]
  },
  {
   "cell_type": "markdown",
   "id": "6750b7dd",
   "metadata": {},
   "source": [
    "1.Loaded the dataset 'amazon_ebook_Data.csv' using pandas and displayed the first few rows to get an initial overview.\n",
    "2.Dropped unnecessary columns ('review_id', 'product_id', 'vine', 'product_parent', 'review_headline', 'review_body')\n",
    "and displayed basic statistics, checked for missing values, and identified outliers.\n",
    "3.Removed another unnecessary column ('market_place') and standardized the 'verified_purchase' column. Handled quotation marks in the 'product_title' and 'product_category' columns.\n",
    "4.Handled data quality issues in the 'total_votes' column, ensuring that the number of helpful votes is never greater than total votes. Also, converted the 'review_date' column to datetime format.\n",
    "5.Utilized seaborn and matplotlib for data visualization, including count plots, box plots, and scatter plots.\n",
    "6.Saved the cleaned dataset to 'cleaned_dataset.csv' for future analysis."
   ]
  },
  {
   "cell_type": "code",
   "execution_count": null,
   "id": "d1469a44",
   "metadata": {},
   "outputs": [],
   "source": []
  }
 ],
 "metadata": {
  "kernelspec": {
   "display_name": "Python 3 (ipykernel)",
   "language": "python",
   "name": "python3"
  },
  "language_info": {
   "codemirror_mode": {
    "name": "ipython",
    "version": 3
   },
   "file_extension": ".py",
   "mimetype": "text/x-python",
   "name": "python",
   "nbconvert_exporter": "python",
   "pygments_lexer": "ipython3",
   "version": "3.9.7"
  }
 },
 "nbformat": 4,
 "nbformat_minor": 5
}
